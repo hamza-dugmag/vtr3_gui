{
 "cells": [
  {
   "cell_type": "code",
   "execution_count": 32,
   "metadata": {},
   "outputs": [],
   "source": [
    "import requests\n",
    "import math\n",
    "import os\n",
    "\n",
    "assert \"/boat_catkin_ws/src/boat_environment_monitoring/vtr3_gui/vtr-ui/public\" in os.getcwd(), \"Incorrrect cwd!\""
   ]
  },
  {
   "cell_type": "markdown",
   "metadata": {},
   "source": [
    "**Note:** Map URLs need to be re-generated after 24 hours\n",
    "\n",
    "Generate them here: https://colab.research.google.com/drive/1Hd7Q7SOB73aozFVBFzz5IlEO6xbcOTXI#scrollTo=JfhwGD4rETBP"
   ]
  },
  {
   "cell_type": "code",
   "execution_count": 33,
   "metadata": {},
   "outputs": [],
   "source": [
    "# RK McMillan Park\n",
    "source = {\n",
    "    \"watermask_dir\": \"./WaterMasks/\",\n",
    "    \"watermask_url\": \"https://earthengine.googleapis.com/v1alpha/projects/earthengine-legacy/maps/08b2c41f7db236cf8569e48dfcfc5fb2-fb54d558425254a5dcd67154b1e9c36b/tiles/\",  # {z}/{x}/{y}\n",
    "    \"map_dir\": \"./Sentinel2Maps/\",\n",
    "    \"map_url\": \"https://earthengine.googleapis.com/v1alpha/projects/earthengine-legacy/maps/92d8f695cbcd89c27d0b4dfed573c6f8-e96859f3c9da426296d1a13107c1f351/tiles/\",  # {z}/{x}/{y}\n",
    "    \"top_left\": (43.572089, -79.568696),  # (lat, lon)\n",
    "    \"bottom_right\": (43.559421, -79.548831)  # (lat, lon)\n",
    "}"
   ]
  },
  {
   "cell_type": "code",
   "execution_count": 41,
   "metadata": {},
   "outputs": [],
   "source": [
    "# Nine Mile Lake Beach Park\n",
    "source = {\n",
    "    \"watermask_dir\": \"./WaterMasks/\",\n",
    "    \"watermask_url\": \"https://earthengine.googleapis.com/v1alpha/projects/earthengine-legacy/maps/5cb5614e7b559e33f081b54efb0616aa-206ce3a804023d7ce2dba8d026242674/tiles/\",  # {z}/{x}/{y}\n",
    "    \"map_dir\": \"./Sentinel2Maps/\",\n",
    "    \"map_url\": \"https://earthengine.googleapis.com/v1alpha/projects/earthengine-legacy/maps/9c8441fdff1ad803e11d4112e69a9ba2-3ab81914c2df12c4bce183399fc00e3f/tiles/\",  # {z}/{x}/{y}\n",
    "    \"top_left\": (45.503779, -80.072551),  # (lat, lon)\n",
    "    \"bottom_right\": (45.432782, -80.030456)  # (lat, lon)\n",
    "}"
   ]
  },
  {
   "cell_type": "code",
   "execution_count": 42,
   "metadata": {},
   "outputs": [],
   "source": [
    "def deg2num(lat_deg, lon_deg, zoom):\n",
    "    lat_rad = math.radians(lat_deg)\n",
    "    n = 2.0 ** zoom\n",
    "    xtile = int((lon_deg + 180.0) / 360.0 * n)\n",
    "    ytile = int((1.0 - math.asinh(math.tan(lat_rad)) / math.pi) / 2.0 * n)\n",
    "    return (xtile, ytile)\n"
   ]
  },
  {
   "cell_type": "code",
   "execution_count": 44,
   "metadata": {},
   "outputs": [
    {
     "name": "stdout",
     "output_type": "stream",
     "text": [
      "{'zoom': range(8, 19), 'xs': [range(71, 72), range(142, 143), range(284, 285), range(568, 569), range(1136, 1138), range(2273, 2275), range(4547, 4550), range(9095, 9100), range(18191, 18199), range(36382, 36398), range(72764, 72796)], 'ys': [range(91, 92), range(183, 184), range(366, 367), range(732, 734), range(1465, 1467), range(2930, 2933), range(5861, 5866), range(11722, 11732), range(23444, 23464), range(46889, 46927), range(93778, 93853)]}\n"
     ]
    }
   ],
   "source": [
    "bounds = {\n",
    "    \"zoom\": range(8, 19),\n",
    "    \"xs\": [],\n",
    "    \"ys\": []\n",
    "}\n",
    "\n",
    "for i in range(len(bounds[\"zoom\"])):\n",
    "    top_left = deg2num(source[\"top_left\"][0], source[\"top_left\"][1], bounds[\"zoom\"][i])\n",
    "    bottom_right = deg2num(source[\"bottom_right\"][0], source[\"bottom_right\"][1], bounds[\"zoom\"][i])\n",
    "\n",
    "    bounds[\"xs\"].append(range(top_left[0], bottom_right[0] + 1))\n",
    "    bounds[\"ys\"].append(range(top_left[1], bottom_right[1] + 1))\n",
    "\n",
    "print(bounds)"
   ]
  },
  {
   "cell_type": "code",
   "execution_count": 45,
   "metadata": {},
   "outputs": [],
   "source": [
    "def cache_tiles(source, bounds, watermask=False):\n",
    "    type = \"map\"\n",
    "    if watermask:\n",
    "        type = \"watermask\"\n",
    "\n",
    "    for i in range(len(bounds[\"zoom\"])):\n",
    "        z = bounds[\"zoom\"][i]\n",
    "\n",
    "        for x in bounds[\"xs\"][i]:\n",
    "            img_dir = source[type + \"_dir\"] + str(z) + \"/\" + str(x) + \"/\"\n",
    "            if not os.path.exists(img_dir):\n",
    "                os.makedirs(img_dir)\n",
    "\n",
    "            for y in bounds[\"ys\"][i]:\n",
    "                save_file = img_dir + str(y) + \".png\"\n",
    "                img_url = source[type + \"_url\"] + str(z) + \"/\" + str(x) + \"/\" + str(y)\n",
    "\n",
    "                img_data = requests.get(img_url).content\n",
    "                with open(save_file, \"wb\") as handler:\n",
    "                    handler.write(img_data)\n"
   ]
  },
  {
   "cell_type": "code",
   "execution_count": 46,
   "metadata": {},
   "outputs": [],
   "source": [
    "cache_tiles(source, bounds, False)\n",
    "cache_tiles(source, bounds, True)\n",
    "\n",
    "# Port Credit: 4m 18.6s\n",
    "# Nine Mile Lake: 61m 21.8s"
   ]
  }
 ],
 "metadata": {
  "interpreter": {
   "hash": "31f2aee4e71d21fbe5cf8b01ff0e069b9275f58929596ceb00d14d90e3e16cd6"
  },
  "kernelspec": {
   "display_name": "Python 3.6.9 64-bit",
   "language": "python",
   "name": "python3"
  },
  "language_info": {
   "codemirror_mode": {
    "name": "ipython",
    "version": 3
   },
   "file_extension": ".py",
   "mimetype": "text/x-python",
   "name": "python",
   "nbconvert_exporter": "python",
   "pygments_lexer": "ipython3",
   "version": "3.6.9"
  },
  "orig_nbformat": 4
 },
 "nbformat": 4,
 "nbformat_minor": 2
}
